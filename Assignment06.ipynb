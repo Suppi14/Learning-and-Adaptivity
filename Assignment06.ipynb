{
 "cells": [
  {
   "cell_type": "code",
   "execution_count": 18,
   "metadata": {
    "collapsed": true
   },
   "outputs": [],
   "source": [
    "#Team members\n",
    "#Swaroop Bhandary\n",
    "#Vajra Ganeshkumar\n",
    "#Supriya Vadiraj"
   ]
  },
  {
   "cell_type": "markdown",
   "metadata": {},
   "source": [
    "Use read_csv from pandas to load this file as DataFrame and head() to visialise its features"
   ]
  },
  {
   "cell_type": "code",
   "execution_count": 15,
   "metadata": {},
   "outputs": [],
   "source": [
    "import pandas as pd\n",
    "from sklearn.model_selection import train_test_split\n",
    "from sklearn.metrics import accuracy_score\n",
    "from sklearn.metrics import confusion_matrix\n",
    "from sklearn.ensemble import RandomForestClassifier"
   ]
  },
  {
   "cell_type": "code",
   "execution_count": 3,
   "metadata": {},
   "outputs": [
    {
     "name": "stdout",
     "output_type": "stream",
     "text": [
      "  parkinsons.dataname  MDVP:Fo(Hz)  MDVP:Fhi(Hz)  MDVP:Flo(Hz)  \\\n",
      "0      phon_R01_S01_1      119.992       157.302        74.997   \n",
      "1      phon_R01_S01_2      122.400       148.650       113.819   \n",
      "2      phon_R01_S01_3      116.682       131.111       111.555   \n",
      "3      phon_R01_S01_4      116.676       137.871       111.366   \n",
      "4      phon_R01_S01_5      116.014       141.781       110.655   \n",
      "\n",
      "   MDVP:Jitter(%)  MDVP:Jitter(Abs)  MDVP:RAP  MDVP:PPQ  Jitter:DDP  \\\n",
      "0         0.00784           0.00007   0.00370   0.00554     0.01109   \n",
      "1         0.00968           0.00008   0.00465   0.00696     0.01394   \n",
      "2         0.01050           0.00009   0.00544   0.00781     0.01633   \n",
      "3         0.00997           0.00009   0.00502   0.00698     0.01505   \n",
      "4         0.01284           0.00011   0.00655   0.00908     0.01966   \n",
      "\n",
      "   MDVP:Shimmer    ...     Shimmer:DDA      NHR     HNR  status      RPDE  \\\n",
      "0       0.04374    ...         0.06545  0.02211  21.033       1  0.414783   \n",
      "1       0.06134    ...         0.09403  0.01929  19.085       1  0.458359   \n",
      "2       0.05233    ...         0.08270  0.01309  20.651       1  0.429895   \n",
      "3       0.05492    ...         0.08771  0.01353  20.644       1  0.434969   \n",
      "4       0.06425    ...         0.10470  0.01767  19.649       1  0.417356   \n",
      "\n",
      "        DFA   spread1   spread2        D2       PPE  \n",
      "0  0.815285 -4.813031  0.266482  2.301442  0.284654  \n",
      "1  0.819521 -4.075192  0.335590  2.486855  0.368674  \n",
      "2  0.825288 -4.443179  0.311173  2.342259  0.332634  \n",
      "3  0.819235 -4.117501  0.334147  2.405554  0.368975  \n",
      "4  0.823484 -3.747787  0.234513  2.332180  0.410335  \n",
      "\n",
      "[5 rows x 24 columns]\n"
     ]
    }
   ],
   "source": [
    "df = pd.read_csv(f'parkinsons.data')\n",
    "print(df.head())"
   ]
  },
  {
   "cell_type": "markdown",
   "metadata": {},
   "source": [
    " Remove the \"parkinsons.dataname\" feature in the DataFrame so we’ll drop this (drop('parkinsons.dataname', axis=1)) . Split the data into features and labels: th feature \"status\" contains labels therefore you need to drop this feature from DataFrame but create a variable y to which assign the values of status."
   ]
  },
  {
   "cell_type": "code",
   "execution_count": 5,
   "metadata": {
    "collapsed": true
   },
   "outputs": [],
   "source": [
    "X = df.drop('status', axis=1)\n",
    "X = X.drop('parkinsons.dataname', axis=1)\n",
    "y = df['status']"
   ]
  },
  {
   "cell_type": "markdown",
   "metadata": {},
   "source": [
    "Split the data into a training and test set of data. Use \"from sklearn.model_selection import train_test_split\" function for this"
   ]
  },
  {
   "cell_type": "code",
   "execution_count": 8,
   "metadata": {
    "collapsed": true
   },
   "outputs": [],
   "source": [
    "X_train, X_test, y_train, y_test = train_test_split(X, y, random_state=1)"
   ]
  },
  {
   "cell_type": "markdown",
   "metadata": {},
   "source": [
    "Create and train the model. The number of estimators (n_estimators) determines how # dense our decision forest is and the random_state is given for reproducibility. "
   ]
  },
  {
   "cell_type": "code",
   "execution_count": 16,
   "metadata": {},
   "outputs": [
    {
     "data": {
      "text/plain": [
       "RandomForestClassifier(bootstrap=True, class_weight=None, criterion='gini',\n",
       "            max_depth=10, max_features='auto', max_leaf_nodes=None,\n",
       "            min_impurity_decrease=0.0, min_impurity_split=None,\n",
       "            min_samples_leaf=1, min_samples_split=2,\n",
       "            min_weight_fraction_leaf=0.0, n_estimators=30, n_jobs=1,\n",
       "            oob_score=False, random_state=1, verbose=0, warm_start=False)"
      ]
     },
     "execution_count": 16,
     "metadata": {},
     "output_type": "execute_result"
    }
   ],
   "source": [
    "random_forest = RandomForestClassifier(n_estimators=30, max_depth=10, random_state=1)\n",
    "random_forest.fit(X_train, y_train)"
   ]
  },
  {
   "cell_type": "markdown",
   "metadata": {},
   "source": [
    "Evaluate our model on our test set."
   ]
  },
  {
   "cell_type": "code",
   "execution_count": 17,
   "metadata": {},
   "outputs": [
    {
     "data": {
      "text/html": [
       "<div>\n",
       "<style>\n",
       "    .dataframe thead tr:only-child th {\n",
       "        text-align: right;\n",
       "    }\n",
       "\n",
       "    .dataframe thead th {\n",
       "        text-align: left;\n",
       "    }\n",
       "\n",
       "    .dataframe tbody tr th {\n",
       "        vertical-align: top;\n",
       "    }\n",
       "</style>\n",
       "<table border=\"1\" class=\"dataframe\">\n",
       "  <thead>\n",
       "    <tr style=\"text-align: right;\">\n",
       "      <th></th>\n",
       "      <th>Predicted Healthy</th>\n",
       "      <th>Predicted Parkinsons</th>\n",
       "    </tr>\n",
       "  </thead>\n",
       "  <tbody>\n",
       "    <tr>\n",
       "      <th>True Healthy</th>\n",
       "      <td>11</td>\n",
       "      <td>1</td>\n",
       "    </tr>\n",
       "    <tr>\n",
       "      <th>True Parkinsons</th>\n",
       "      <td>2</td>\n",
       "      <td>35</td>\n",
       "    </tr>\n",
       "  </tbody>\n",
       "</table>\n",
       "</div>"
      ],
      "text/plain": [
       "                 Predicted Healthy  Predicted Parkinsons\n",
       "True Healthy                    11                     1\n",
       "True Parkinsons                  2                    35"
      ]
     },
     "execution_count": 17,
     "metadata": {},
     "output_type": "execute_result"
    }
   ],
   "source": [
    "y_predict = random_forest.predict(X_test)\n",
    "accuracy_score(y_test, y_predict)\n",
    "pd.DataFrame( confusion_matrix(y_test, y_predict),\n",
    "                       columns=['Predicted Healthy', 'Predicted Parkinsons'],\n",
    "                       index=['True Healthy', 'True Parkinsons'])"
   ]
  },
  {
   "cell_type": "code",
   "execution_count": null,
   "metadata": {
    "collapsed": true
   },
   "outputs": [],
   "source": []
  }
 ],
 "metadata": {
  "kernelspec": {
   "display_name": "Python 3",
   "language": "python",
   "name": "python3"
  },
  "language_info": {
   "codemirror_mode": {
    "name": "ipython",
    "version": 3
   },
   "file_extension": ".py",
   "mimetype": "text/x-python",
   "name": "python",
   "nbconvert_exporter": "python",
   "pygments_lexer": "ipython3",
   "version": "3.6.3"
  }
 },
 "nbformat": 4,
 "nbformat_minor": 2
}
